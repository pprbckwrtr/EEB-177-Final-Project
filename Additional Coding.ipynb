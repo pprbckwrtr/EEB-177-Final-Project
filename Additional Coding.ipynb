{
 "cells": [
  {
   "cell_type": "markdown",
   "metadata": {},
   "source": [
    "## Find median values for all four subscores"
   ]
  },
  {
   "cell_type": "code",
   "execution_count": 1,
   "metadata": {
    "collapsed": false
   },
   "outputs": [
    {
     "name": "stdout",
     "output_type": "stream",
     "text": [
      "Median of ADOS A total is 5\n",
      "Median of ADOS B total is 8\n",
      "Median of ADOS C total is 3\n",
      "Median of ADOS D total is 2\n"
     ]
    }
   ],
   "source": [
    "def findmedian(filename):\n",
    "    #ADOS Total A Median\n",
    "    fobj = open(filename, \"r\") #opening file\n",
    "    data = fobj.readlines()[1:] #reading file\n",
    "    listA = [] #empty list\n",
    "    for line in data:\n",
    "        item = line.split(\",\") #defining items as everything in between commas\n",
    "        if item [2] != \"NULL\": #skip null elements\n",
    "            item2 = int(item[2]) #making values in item 2 integers so that 1, 10, 2, 11 are not --> 1, 10, 11, 2\n",
    "            listA.append(item2) #add numbers to list\n",
    "    listA.sort() #sort that in numerical order\n",
    "    midA = int(len(listA)//2) #takes length of list, divides by 2 to get middle, // == integer division\n",
    "    print(\"Median of ADOS A total is \" + str(listA[midA]))\n",
    "  \n",
    "    #ADOS Total B Median\n",
    "    fobj2 = open(filename, \"r\") #opening file\n",
    "    data3 = fobj2.readlines()[1:] #reading file\n",
    "    listB = [] #empty list\n",
    "    for line in data3:\n",
    "        item = line.split(\",\") #defining items as everything in between commas\n",
    "        if item [3] != \"NULL\": #skip null elements\n",
    "            item3 = int(item[3]) #making values in item 3 integers so that 1, 10, 2, 11 are not --> 1, 10, 11, 2\n",
    "            listB.append(item3) #add numbers to list\n",
    "    listB.sort() #sort that in numerical order\n",
    "    midB = len(listB)//2 #takes length of list, divides by 2 to get middle, // == integer division\n",
    "    print(\"Median of ADOS B total is \" + str(listB[midB]))\n",
    "    \n",
    "    #ADOS Total C Median\n",
    "    fobj3 = open(filename, \"r\") #opening file\n",
    "    data3 = fobj3.readlines()[1:] #reading file\n",
    "    listC = [] #empty list\n",
    "    for line in data3:\n",
    "        item = line.split(\",\") #defining items as everything in between commas\n",
    "        if item [4] != \"NULL\": #skip null elements\n",
    "            item4 = int(item[4]) #making values in item 4 integers so that 1, 10, 2, 11 are not --> 1, 10, 11, 2\n",
    "            listC.append(item4) #add numbers to list\n",
    "    listC.sort() #sort that in numerical order\n",
    "    midC = len(listC)//2 #takes length of list, divides by 2 to get middle, // == integer division\n",
    "    print(\"Median of ADOS C total is \" + str(listC[midC]))\n",
    "    \n",
    "    #ADOS Total D median\n",
    "    fobj4 = open(filename, \"r\") #opening file\n",
    "    data4 = fobj4.readlines()[1:] #reading file\n",
    "    listD = [] #empt list\n",
    "    for line in data4:\n",
    "        item = line.split(\",\") #defining items as everything in between commas\n",
    "        if item [5] != \"NULL\": #skip null elements\n",
    "            item5 = int(item[5]) #making values in item 5 integers so that 1, 10, 2, 11 are not --> 1, 10, 11, 2\n",
    "            listD.append(item5) #add numbers to list\n",
    "    listD.sort() #sort that in numerical order\n",
    "    midD = len(listD)//2 #takes length of list, divides by 2 to get middle index, // == int division\n",
    "    print(\"Median of ADOS D total is \" + str(listD[midD]))\n",
    "findmedian(\"output3.csv\") "
   ]
  },
  {
   "cell_type": "markdown",
   "metadata": {},
   "source": [
    "## Find median values of all four subscores *IF* scores have matching paternal age"
   ]
  },
  {
   "cell_type": "code",
   "execution_count": 2,
   "metadata": {
    "collapsed": false
   },
   "outputs": [
    {
     "name": "stdout",
     "output_type": "stream",
     "text": [
      "Median of ADOS A total is 5\n",
      "Median of ADOS B total is 9\n",
      "Median of ADOS C total is 3\n",
      "Median of ADOS D total is 3\n"
     ]
    }
   ],
   "source": [
    "def findmedianF(filename):\n",
    "    #ADOS Total A Median\n",
    "    fobj = open(filename, \"r\") #opening file\n",
    "    data = fobj.readlines()[1:] #reading file\n",
    "    listA = [] #empty list\n",
    "    for line in data:\n",
    "        item = line.split(\",\") #defining items as everything in between commas\n",
    "        if item [2] != \"NULL\" and item[13]!= \"NULL\": #skip null elements\n",
    "            item2 = int(item[2]) #making values in item 2 integers so that 1, 10, 2, 11 are not --> 1, 10, 11, 2\n",
    "            listA.append(item2) #add numbers to list\n",
    "    listA.sort() #sort that in numerical order\n",
    "    midA = int(len(listA)//2) #takes length of list, divides by 2 to get middle, // == integer division\n",
    "    print(\"Median of ADOS A total is \" + str(listA[midA]))\n",
    "  \n",
    "    #ADOS Total B Median\n",
    "    fobj2 = open(filename, \"r\") #opening file\n",
    "    data3 = fobj2.readlines()[1:] #reading file\n",
    "    listB = [] #empty list\n",
    "    for line in data3:\n",
    "        item = line.split(\",\") #defining items as everything in between commas\n",
    "        if item [3] != \"NULL\" and item[13]!=\"NULL\": #skip null elements\n",
    "            item3 = int(item[3]) #making values in item 3 integers so that 1, 10, 2, 11 are not --> 1, 10, 11, 2\n",
    "            listB.append(item3) #add numbers to list\n",
    "    listB.sort() #sort that in numerical order\n",
    "    midB = len(listB)//2 #takes length of list, divides by 2 to get middle, // == integer division\n",
    "    print(\"Median of ADOS B total is \" + str(listB[midB]))\n",
    "    \n",
    "    #ADOS Total C Median\n",
    "    fobj3 = open(filename, \"r\") #opening file\n",
    "    data3 = fobj3.readlines()[1:] #reading file\n",
    "    listC = [] #empty list\n",
    "    for line in data3:\n",
    "        item = line.split(\",\") #defining items as everything in between commas\n",
    "        if item [4] != \"NULL\" and item[13]!= \"NULL\": #skip null elements\n",
    "            item4 = int(item[4]) #making values in item 4 integers so that 1, 10, 2, 11 are not --> 1, 10, 11, 2\n",
    "            listC.append(item4) #add numbers to list\n",
    "    listC.sort() #sort that in numerical order\n",
    "    midC = len(listC)//2 #takes length of list, divides by 2 to get middle, // == integer division\n",
    "    print(\"Median of ADOS C total is \" + str(listC[midC]))\n",
    "    \n",
    "    #ADOS Total D median\n",
    "    fobj4 = open(filename, \"r\") #opening file\n",
    "    data4 = fobj4.readlines()[1:] #reading file\n",
    "    listD = [] #empt list\n",
    "    for line in data4:\n",
    "        item = line.split(\",\") #defining items as everything in between commas\n",
    "        if item [5] != \"NULL\" and item[13]!=\"NULL\": #skip null elements\n",
    "            item5 = int(item[5]) #making values in item 5 integers so that 1, 10, 2, 11 are not --> 1, 10, 11, 2\n",
    "            listD.append(item5) #add numbers to list\n",
    "    listD.sort() #sort that in numerical order\n",
    "    midD = len(listD)//2 #takes length of list, divides by 2 to get middle index, // == int division\n",
    "    print(\"Median of ADOS D total is \" + str(listD[midD]))\n",
    "findmedianF(\"output3.csv\")"
   ]
  },
  {
   "cell_type": "markdown",
   "metadata": {},
   "source": [
    "## Find median values of all four subscores *IF* scores have matching maternal age"
   ]
  },
  {
   "cell_type": "code",
   "execution_count": 3,
   "metadata": {
    "collapsed": false
   },
   "outputs": [
    {
     "name": "stdout",
     "output_type": "stream",
     "text": [
      "Median of ADOS A total is 5\n",
      "Median of ADOS B total is 9\n",
      "Median of ADOS C total is 3\n",
      "Median of ADOS D total is 3\n"
     ]
    }
   ],
   "source": [
    "def findmedianM(filename):\n",
    "    #ADOS Total A Median\n",
    "    fobj = open(filename, \"r\") #opening file\n",
    "    data = fobj.readlines()[1:] #reading file\n",
    "    listA = [] #empty list\n",
    "    for line in data:\n",
    "        item = line.split(\",\") #defining items as everything in between commas\n",
    "        if item [2] != \"NULL\" and item[14]!= \"NULL\": #skip null elements\n",
    "            item2 = int(item[2]) #making values in item 2 integers so that 1, 10, 2, 11 are not --> 1, 10, 11, 2\n",
    "            listA.append(item2) #add numbers to list\n",
    "    listA.sort() #sort that in numerical order\n",
    "    midA = int(len(listA)//2) #takes length of list, divides by 2 to get middle, // == integer division\n",
    "    print(\"Median of ADOS A total is \" + str(listA[midA]))\n",
    "  \n",
    "    #ADOS Total B Median\n",
    "    fobj2 = open(filename, \"r\") #opening file\n",
    "    data3 = fobj2.readlines()[1:] #reading file\n",
    "    listB = [] #empty list\n",
    "    for line in data3:\n",
    "        item = line.split(\",\") #defining items as everything in between commas\n",
    "        if item [3] != \"NULL\" and item[14]!=\"NULL\": #skip null elements\n",
    "            item3 = int(item[3]) #making values in item 3 integers so that 1, 10, 2, 11 are not --> 1, 10, 11, 2\n",
    "            listB.append(item3) #add numbers to list\n",
    "    listB.sort() #sort that in numerical order\n",
    "    midB = len(listB)//2 #takes length of list, divides by 2 to get middle, // == integer division\n",
    "    print(\"Median of ADOS B total is \" + str(listB[midB]))\n",
    "    \n",
    "    #ADOS Total C Median\n",
    "    fobj3 = open(filename, \"r\") #opening file\n",
    "    data3 = fobj3.readlines()[1:] #reading file\n",
    "    listC = [] #empty list\n",
    "    for line in data3:\n",
    "        item = line.split(\",\") #defining items as everything in between commas\n",
    "        if item [4] != \"NULL\" and item[14]!= \"NULL\": #skip null elements\n",
    "            item4 = int(item[4]) #making values in item 4 integers so that 1, 10, 2, 11 are not --> 1, 10, 11, 2\n",
    "            listC.append(item4) #add numbers to list\n",
    "    listC.sort() #sort that in numerical order\n",
    "    midC = len(listC)//2 #takes length of list, divides by 2 to get middle, // == integer division\n",
    "    print(\"Median of ADOS C total is \" + str(listC[midC]))\n",
    "    \n",
    "    #ADOS Total D median\n",
    "    fobj4 = open(filename, \"r\") #opening file\n",
    "    data4 = fobj4.readlines()[1:] #reading file\n",
    "    listD = [] #empt list\n",
    "    for line in data4:\n",
    "        item = line.split(\",\") #defining items as everything in between commas\n",
    "        if item [5] != \"NULL\" and item[14]!=\"NULL\": #skip null elements\n",
    "            item5 = int(item[5]) #making values in item 5 integers so that 1, 10, 2, 11 are not --> 1, 10, 11, 2\n",
    "            listD.append(item5) #add numbers to list\n",
    "    listD.sort() #sort that in numerical order\n",
    "    midD = len(listD)//2 #takes length of list, divides by 2 to get middle index, // == int division\n",
    "    print(\"Median of ADOS D total is \" + str(listD[midD]))\n",
    "findmedianM(\"output3.csv\")"
   ]
  },
  {
   "cell_type": "code",
   "execution_count": null,
   "metadata": {
    "collapsed": true
   },
   "outputs": [],
   "source": []
  }
 ],
 "metadata": {
  "anaconda-cloud": {},
  "kernelspec": {
   "display_name": "Python [default]",
   "language": "python",
   "name": "python3"
  },
  "language_info": {
   "codemirror_mode": {
    "name": "ipython",
    "version": 3
   },
   "file_extension": ".py",
   "mimetype": "text/x-python",
   "name": "python",
   "nbconvert_exporter": "python",
   "pygments_lexer": "ipython3",
   "version": "3.5.2"
  }
 },
 "nbformat": 4,
 "nbformat_minor": 2
}
