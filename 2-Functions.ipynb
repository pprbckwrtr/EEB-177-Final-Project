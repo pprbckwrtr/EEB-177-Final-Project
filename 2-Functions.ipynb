{
 "cells": [
  {
   "cell_type": "markdown",
   "metadata": {},
   "source": [
    "# Age of father when he had child\n",
    "input and output to a new file"
   ]
  },
  {
   "cell_type": "code",
   "execution_count": 154,
   "metadata": {
    "collapsed": false
   },
   "outputs": [],
   "source": [
    "#need datetime to deal with ages\n",
    "from datetime import datetime\n",
    "#define function\n",
    "#read file but do not write\n",
    "def ageoffather(filename):\n",
    "    fobj = open(filename, \"r\")\n",
    "    data = fobj.readlines()\n",
    "    #close file\n",
    "    fobj.close()\n",
    "    #open output file and write everything in last file to it + new column with ages\n",
    "    fobj = open(\"output.csv\", \"w\")\n",
    "    fobj.write(data[0].strip()+ \",Father_birth_age\\n\")\n",
    "    for line in data[1:]:\n",
    "        item = line.split(\",\")\n",
    "        print (line)\n",
    "        fatherDOB = item [2]\n",
    "        childDOB = item [1]\n",
    "        F = datetime.strptime(fatherDOB, \"%m/%d/%Y\")\n",
    "        C = datetime.strptime(childDOB, \"%m/%d/%Y\")\n",
    "        delta = C-F\n",
    "        age=delta.days/365.0\n",
    "        fobj.write(line.strip() + \",\" + str(age)  + \"n\")\n",
    "        print(age)\n",
    "    fobj.close()\n",
    "#decided not to round since I will be plotting data and would prefer accuracy"
   ]
  },
  {
   "cell_type": "code",
   "execution_count": 155,
   "metadata": {
    "collapsed": false
   },
   "outputs": [
    {
     "name": "stdout",
     "output_type": "stream",
     "text": [
      "1037,2/3/2014,11/30/1982,1/9/1983,5,1/15/2017,13,7,5,4\n",
      "\n",
      "31.2\n",
      "1038,5/7/2013,4/15/1980,3/30/1984,8,3/9/2016,10,12,6,4\n",
      "\n",
      "33.082191780821915\n",
      "1039,11/13/2012,6/23/1976,12/2/1980,8,4/30/2015,9,8,5,3\n",
      "\n",
      "36.416438356164385\n",
      "1040,8/29/2013,12/17/1979,5/4/1981,7,3/6/2016,6,9,5,2\n",
      "\n",
      "33.723287671232875\n"
     ]
    }
   ],
   "source": [
    "ageoffather(\"dummfile.csv\")"
   ]
  },
  {
   "cell_type": "markdown",
   "metadata": {},
   "source": [
    "# Age of first diagnosis \n",
    "The age of child during administration of the ADOS test (used as a proxy for age of diagnosis). Input is the output from Age of father function. Output is a new output file."
   ]
  },
  {
   "cell_type": "code",
   "execution_count": 160,
   "metadata": {
    "collapsed": true
   },
   "outputs": [],
   "source": [
    "#need datetime to deal with ages\n",
    "from datetime import datetime\n",
    "#define function\n",
    "#read file but do not write\n",
    "def ageofdiagnosis(filename):\n",
    "    fobj = open(filename, \"r\")\n",
    "    data = fobj.readlines()\n",
    "    #close file\n",
    "    fobj.close()\n",
    "    #open output file and write everything in last file to it + new column with ages\n",
    "    fobj = open(\"output2.csv\", \"w\")\n",
    "    fobj.write(data[0].strip()+ \",Ageofdiagnosis\\n\")\n",
    "    for line in data[1:]:\n",
    "        item = line.split(\",\")\n",
    "        ADOSdate = item [5]\n",
    "        childDOB = item [1]\n",
    "        A = datetime.strptime(ADOSdate, \"%m/%d/%Y\")\n",
    "        C = datetime.strptime(childDOB, \"%m/%d/%Y\")\n",
    "        delta = A-C\n",
    "        age=delta.days/365.0\n",
    "        fobj.write(line.strip() + \",\" + str(age)  + \"\\n\")\n",
    "        print(age)\n",
    "    fobj.close()\n",
    "#decided not to round since I will be plotting data and would prefer accuracy"
   ]
  },
  {
   "cell_type": "code",
   "execution_count": 161,
   "metadata": {
    "collapsed": false
   },
   "outputs": [
    {
     "name": "stdout",
     "output_type": "stream",
     "text": [
      "2.9506849315068493\n",
      "2.841095890410959\n",
      "2.4602739726027396\n",
      "2.5205479452054793\n"
     ]
    }
   ],
   "source": [
    "ageofdiagnosis(\"output.csv\")"
   ]
  },
  {
   "cell_type": "code",
   "execution_count": null,
   "metadata": {
    "collapsed": true
   },
   "outputs": [],
   "source": []
  }
 ],
 "metadata": {
  "anaconda-cloud": {},
  "kernelspec": {
   "display_name": "Python [default]",
   "language": "python",
   "name": "python3"
  },
  "language_info": {
   "codemirror_mode": {
    "name": "ipython",
    "version": 3
   },
   "file_extension": ".py",
   "mimetype": "text/x-python",
   "name": "python",
   "nbconvert_exporter": "python",
   "pygments_lexer": "ipython3",
   "version": "3.5.2"
  }
 },
 "nbformat": 4,
 "nbformat_minor": 2
}
