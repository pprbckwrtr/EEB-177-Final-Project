{
 "cells": [
  {
   "cell_type": "markdown",
   "metadata": {},
   "source": [
    "# Parental ages when they had child\n",
    "code will subtract the age of child from ages of parents via DOB"
   ]
  },
  {
   "cell_type": "code",
   "execution_count": 77,
   "metadata": {
    "collapsed": false
   },
   "outputs": [],
   "source": [
    "#need datetime to deal with ages\n",
    "from datetime import datetime\n",
    "#define function\n",
    "def ageofmother(filename):\n",
    "    #open\n",
    "    fobj = open(filename, \"r\")\n",
    "    #read and skip 1st line\n",
    "    data = fobj.readlines()[1:]\n",
    "    for line in data:\n",
    "        item = line.split(\",\")\n",
    "        motherDOB = item [3]\n",
    "        childDOB = item [1]\n",
    "        date_format = \"%m/%d/%Y\"\n",
    "        M = datetime.strptime(motherDOB, \"%m/%d/%y\")\n",
    "        C = datetime.strptime(childDOB, \"%m/%d/%Y\")\n",
    "        delta = C-M\n",
    "        age=delta.days/365.0\n",
    "        print (age)\n",
    "#decided not to round since I will be plotting data and would prefer accuracy"
   ]
  },
  {
   "cell_type": "code",
   "execution_count": 78,
   "metadata": {
    "collapsed": false
   },
   "outputs": [
    {
     "name": "stdout",
     "output_type": "stream",
     "text": [
      "31.09041095890411\n",
      "29.123287671232877\n",
      "31.96986301369863\n",
      "32.342465753424655\n"
     ]
    }
   ],
   "source": [
    "ageofmother(\"/home/eeb177-student/Desktop/eeb-177-final-project/dummyfile.csv\")"
   ]
  },
  {
   "cell_type": "code",
   "execution_count": null,
   "metadata": {
    "collapsed": true
   },
   "outputs": [],
   "source": []
  },
  {
   "cell_type": "code",
   "execution_count": null,
   "metadata": {
    "collapsed": true
   },
   "outputs": [],
   "source": []
  }
 ],
 "metadata": {
  "anaconda-cloud": {},
  "kernelspec": {
   "display_name": "Python [default]",
   "language": "python",
   "name": "python3"
  },
  "language_info": {
   "codemirror_mode": {
    "name": "ipython",
    "version": 3
   },
   "file_extension": ".py",
   "mimetype": "text/x-python",
   "name": "python",
   "nbconvert_exporter": "python",
   "pygments_lexer": "ipython3",
   "version": "3.5.2"
  }
 },
 "nbformat": 4,
 "nbformat_minor": 2
}
