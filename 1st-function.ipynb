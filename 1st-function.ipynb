{
 "cells": [
  {
   "cell_type": "markdown",
   "metadata": {},
   "source": [
    "# Parental ages when they had child\n",
    "code will subtract the age of child from ages of parents via DOB"
   ]
  },
  {
   "cell_type": "code",
   "execution_count": 70,
   "metadata": {
    "collapsed": false
   },
   "outputs": [],
   "source": [
    "#need datetime to deal with ages\n",
    "from datetime import datetime\n",
    "#define function\n",
    "def ageofmother(filename):\n",
    "    #open\n",
    "    fobj = open(filename, \"r\")\n",
    "    #read and skip 1st line\n",
    "    data = fobj.readlines()[1:]\n",
    "    for line in data:\n",
    "        item = line.split(\",\")\n",
    "        motherDOB = item [3]\n",
    "        childDOB = item [1]\n",
    "        date_format = \"%m/%d/%Y\"\n",
    "        M = datetime.strptime(motherDOB, \"%m/%d/%y\")\n",
    "        C = datetime.strptime(childDOB, \"%m/%d/%Y\")\n",
    "        delta = C-M\n",
    "        age=delta.days/365.0\n",
    "    return (age)\n",
    "    \n",
    "#need to fix only returning one age"
   ]
  },
  {
   "cell_type": "code",
   "execution_count": 71,
   "metadata": {
    "collapsed": false
   },
   "outputs": [
    {
     "data": {
      "text/plain": [
       "32.342465753424655"
      ]
     },
     "execution_count": 71,
     "metadata": {},
     "output_type": "execute_result"
    }
   ],
   "source": [
    "ageofmother(\"/home/eeb177-student/Desktop/eeb-177-final-project/dummyfile.csv\")"
   ]
  },
  {
   "cell_type": "code",
   "execution_count": null,
   "metadata": {
    "collapsed": true
   },
   "outputs": [],
   "source": []
  },
  {
   "cell_type": "code",
   "execution_count": null,
   "metadata": {
    "collapsed": true
   },
   "outputs": [],
   "source": []
  }
 ],
 "metadata": {
  "anaconda-cloud": {},
  "kernelspec": {
   "display_name": "Python [default]",
   "language": "python",
   "name": "python3"
  },
  "language_info": {
   "codemirror_mode": {
    "name": "ipython",
    "version": 3
   },
   "file_extension": ".py",
   "mimetype": "text/x-python",
   "name": "python",
   "nbconvert_exporter": "python",
   "pygments_lexer": "ipython3",
   "version": "3.5.2"
  }
 },
 "nbformat": 4,
 "nbformat_minor": 2
}
